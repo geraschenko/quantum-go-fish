{
 "cells": [
  {
   "cell_type": "code",
   "execution_count": 1,
   "metadata": {
    "colab": {},
    "colab_type": "code",
    "id": "gy7WwfTZW5Ea"
   },
   "outputs": [],
   "source": [
    "import collections\n",
    "import numpy as np\n",
    "import time\n",
    "import matplotlib.pyplot as plt\n",
    "import seaborn as sns\n",
    "sns.set_style('ticks')\n",
    "import random\n",
    "import copy\n",
    "import functools\n",
    "from typing import Tuple\n",
    "\n",
    "import game"
   ]
  },
  {
   "cell_type": "code",
   "execution_count": 2,
   "metadata": {
    "colab": {
     "base_uri": "https://localhost:8080/",
     "height": 163
    },
    "colab_type": "code",
    "id": "bYG8E1xyGzW8",
    "outputId": "4e7049e9-972e-4aa5-eb65-6c766358784a"
   },
   "outputs": [
    {
     "name": "stdout",
     "output_type": "stream",
     "text": [
      "CPU times: user 421 ms, sys: 26.2 ms, total: 447 ms\n",
      "Wall time: 410 ms\n",
      "10147 initial states for 4 players\n",
      "Here's one:\n",
      "[[0 1 0 3]\n",
      " [0 0 4 0]\n",
      " [1 3 0 0]\n",
      " [3 0 0 1]]\n"
     ]
    }
   ],
   "source": [
    "#@title enumerating initial states with 4 players {vertical-output: true}\n",
    "\n",
    "num_players = 4\n",
    "%time states = game.all_possible_initial_states(num_players)\n",
    "print(f'{states.shape[0]} initial states for {num_players} players')\n",
    "print(f'Here\\'s one:\\n{states[np.random.randint(states.shape[0])]}')"
   ]
  },
  {
   "cell_type": "code",
   "execution_count": 3,
   "metadata": {
    "colab": {
     "base_uri": "https://localhost:8080/",
     "height": 181
    },
    "colab_type": "code",
    "id": "z56MjJFQ1ie0",
    "outputId": "ab8aa082-0ceb-4143-879e-529246e3a411"
   },
   "outputs": [
    {
     "name": "stdout",
     "output_type": "stream",
     "text": [
      "CPU times: user 1min 40s, sys: 1.63 s, total: 1min 41s\n",
      "Wall time: 1min 39s\n",
      "2224955 initial states for 5 players\n",
      "Here's one:\n",
      "[[1 2 0 1 0]\n",
      " [2 0 0 0 2]\n",
      " [0 0 2 0 2]\n",
      " [0 0 2 2 0]\n",
      " [1 2 0 1 0]]\n"
     ]
    }
   ],
   "source": [
    "#@title enumerating initial states with 5 players {vertical-output: true}\n",
    "\n",
    "num_players = 5\n",
    "%time states = game.all_possible_initial_states(num_players)\n",
    "print(f'{states.shape[0]} initial states for {num_players} players')\n",
    "print(f'Here\\'s one:\\n{states[np.random.randint(states.shape[0])]}')"
   ]
  },
  {
   "cell_type": "code",
   "execution_count": 6,
   "metadata": {
    "colab": {
     "base_uri": "https://localhost:8080/",
     "height": 526
    },
    "colab_type": "code",
    "id": "YfTHLUsQW91s",
    "outputId": "cad243ff-7100-4518-a05b-ae92885f13ae"
   },
   "outputs": [
    {
     "name": "stdout",
     "output_type": "stream",
     "text": [
      "CPU times: user 1.37 ms, sys: 0 ns, total: 1.37 ms\n",
      "Wall time: 1.24 ms\n",
      "   known   unknown  (4 possibilities) 36494450566594931502797524\n",
      "0: 00022   ?{02}      \n",
      "1: 13      ?{13}      \n",
      "2: 2       ?{02}      \n",
      "3: 1133    ?{13}      < current\n",
      "all states consistent with data:\n",
      "[[[3 0 1 0]\n",
      "  [0 1 0 3]\n",
      "  [3 0 1 0]\n",
      "  [0 2 0 2]]\n",
      "\n",
      " [[3 0 1 0]\n",
      "  [0 2 0 2]\n",
      "  [3 0 1 0]\n",
      "  [0 1 0 3]]\n",
      "\n",
      " [[4 0 0 0]\n",
      "  [0 1 0 3]\n",
      "  [2 0 2 0]\n",
      "  [0 2 0 2]]\n",
      "\n",
      " [[4 0 0 0]\n",
      "  [0 2 0 2]\n",
      "  [2 0 2 0]\n",
      "  [0 1 0 3]]]\n"
     ]
    }
   ],
   "source": [
    "#@title Shaking down that one state you sent me {vertical-output: true}\n",
    "\n",
    "# 00022?x13\n",
    "# 1??x0\n",
    "# 2?x13\n",
    "# 113??x0   <<<< next player\n",
    "\n",
    "known = np.array([[3, 0, 0, 0],   # locations of known 0's\n",
    "                  [0, 1, 0, 2],   # locations of known 1's\n",
    "                  [2, 0, 1, 0],   # locations of known 2's\n",
    "                  [0, 0, 0, 1]])  # locations of known 3's\n",
    "unknown = np.array([1, 2, 1, 2])\n",
    "is_excluded = np.zeros((4, 4), dtype=bool)\n",
    "is_excluded[0, [1, 3]] = True  # players 1 and 3 aren't holding any 0's\n",
    "is_excluded[1, [0, 2]] = True  # players 0 and 2 aren't holding any 1's\n",
    "is_excluded[3, [0, 2]] = True  # players 0 and 2 aren't holding any 3's\n",
    "\n",
    "pos = game.Position(curr_player=3, known=known, unknown=unknown, is_excluded=is_excluded)\n",
    "%time states = pos.states\n",
    "print(pos)\n",
    "print(f'all states consistent with data:\\n{states}')"
   ]
  },
  {
   "cell_type": "markdown",
   "metadata": {
    "colab_type": "text",
    "id": "V-2Uk4Hy_Vhs"
   },
   "source": [
    "# Work in progress"
   ]
  },
  {
   "cell_type": "code",
   "execution_count": 7,
   "metadata": {
    "colab": {
     "base_uri": "https://localhost:8080/",
     "height": 90
    },
    "colab_type": "code",
    "id": "QTSiiEkgplU-",
    "outputId": "dfa20958-7435-4cc0-81e1-f205f972db98"
   },
   "outputs": [
    {
     "name": "stdout",
     "output_type": "stream",
     "text": [
      "   known   unknown  (120 possibilities) 1196035\n",
      "0:         ????{012}  < current\n",
      "1:         ????{012}  \n",
      "2:         ????{012}  \n"
     ]
    }
   ],
   "source": [
    "NUM_PLAYERS = 3\n",
    "states = game.all_possible_initial_states(NUM_PLAYERS)\n",
    "pos = game.Position(states=states)\n",
    "print(pos)"
   ]
  },
  {
   "cell_type": "code",
   "execution_count": 8,
   "metadata": {
    "colab": {
     "base_uri": "https://localhost:8080/",
     "height": 454
    },
    "colab_type": "code",
    "id": "VCPBBDlwk5wA",
    "outputId": "e4dec895-0ce2-4af3-8e9f-0e1bdd362038"
   },
   "outputs": [
    {
     "name": "stdout",
     "output_type": "stream",
     "text": [
      "   known   unknown  (120 possibilities) 1196035\n",
      "0:         ????{012}  < current\n",
      "1:         ????{012}  \n",
      "2:         ????{012}  \n",
      "   known   unknown  (85 possibilities) 2533343510806531\n",
      "0: 1       ???{012}   < current\n",
      "1:         ????{012}  \n",
      "2:         ????{012}  < got a 1?\n",
      "Answer(give_card=True)\n",
      "   known   unknown  (55 possibilities) 5629636974096387\n",
      "0: 11      ???{012}   \n",
      "1:         ????{012}  < current\n",
      "2:         ???{012}   \n",
      "   known   unknown  (30 possibilities) 7037020447551491\n",
      "0: 11      ???{012}   \n",
      "1: 1       ???{012}   < current\n",
      "2:         ???{012}   < got a 1?\n",
      "Answer(give_card=False)\n",
      "   known   unknown  (20 possibilities) 11259145098211395\n",
      "0: 11      ???{012}   \n",
      "1: 1       ???{012}   \n",
      "2:         ???{02}    < current\n",
      "   known   unknown  (16 possibilities) 10133794947178563\n",
      "0: 11      ???{012}   \n",
      "1: 1       ???{012}   < got a 0?\n",
      "2: 0       ??{02}     < current\n",
      "Answer(give_card=False)\n",
      "   known   unknown  (5 possibilities) 35880190911555\n",
      "0: 011     ??{012}    < current\n",
      "1: 122     ?{12}      \n",
      "2: 0       ??{02}     \n",
      "   known   unknown  (5 possibilities) 2287680004596803\n",
      "0: 011     ??{012}    < current\n",
      "1: 122     ?{12}      \n",
      "2: 0       ??{02}     < got a 0?\n",
      "Answer(give_card=True)\n",
      "   known   unknown  (5 possibilities) 5700014341399619\n",
      "0: 0011    ??{012}    \n",
      "1: 122     ?{12}      < current\n",
      "2:         ??{02}     \n",
      "   known   unknown  (5 possibilities) 5137064387978307\n",
      "0: 0011    ??{012}    < got a 2?\n",
      "1: 122     ?{12}      < current\n",
      "2:         ??{02}     \n",
      "Answer(give_card=True)\n",
      "   known   unknown  (3 possibilities) 11330063647937603\n",
      "0: 0011    ?{012}     \n",
      "1: 1222    ?{12}      \n",
      "2: 0       ?{02}      < current\n",
      "   known   unknown  (1 possibilities) 10802306658337891\n",
      "0: 00011              \n",
      "1: 11222              < got a 2?\n",
      "2: 02                 < current\n",
      "2 wins\n"
     ]
    }
   ],
   "source": [
    "# pos = Position(curr_player, active_player, requested_suit, states, known, unknown, is_excluded)\n",
    "\n",
    "num_states = [len(pos.states)]\n",
    "\n",
    "print(pos)\n",
    "win = game.winner(pos)\n",
    "\n",
    "while True:\n",
    "# for _ in range(4):\n",
    "  if win is not None:\n",
    "    break\n",
    "\n",
    "  moves = game.legal_moves(pos)\n",
    "  if False:\n",
    "    print(list(enumerate(moves)))\n",
    "    move_num = int(input('Which one?'))\n",
    "    move = moves[move_num]\n",
    "  else:\n",
    "    move_num = np.random.randint(len(moves))\n",
    "    move = moves[move_num]\n",
    "    if isinstance(move, game.Answer):\n",
    "      print(move)\n",
    "\n",
    "  pos = game.do_move(pos, move)\n",
    "  win = game.winner(pos)\n",
    "  num_states.append(len(pos.states))\n",
    "  print(pos)\n",
    "\n",
    "print(win, 'wins')"
   ]
  },
  {
   "cell_type": "code",
   "execution_count": 9,
   "metadata": {
    "colab": {
     "base_uri": "https://localhost:8080/",
     "height": 269
    },
    "colab_type": "code",
    "id": "Sybh0BdeI41y",
    "outputId": "3affbc51-27dd-48d3-961a-7048f1302ec6"
   },
   "outputs": [
    {
     "data": {
      "image/png": "[encoded data removed]",
      "text/plain": [
       "<Figure size 432x288 with 1 Axes>"
      ]
     },
     "metadata": {},
     "output_type": "display_data"
    }
   ],
   "source": [
    "plt.plot(num_states)\n",
    "plt.yscale('log')"
   ]
  },
  {
   "cell_type": "code",
   "execution_count": 10,
   "metadata": {
    "colab": {},
    "colab_type": "code",
    "id": "sDhdbat9ITav"
   },
   "outputs": [],
   "source": [
    "DRAW = NUM_PLAYERS\n",
    "OUTCOMES = tuple(list(range(NUM_PLAYERS)) + [DRAW])\n",
    "OUTCOME_STR = [f'{p} wins' for p in range(NUM_PLAYERS)] + ['draw']\n",
    "\n",
    "def to_dist(outcome_or_list):\n",
    "  if isinstance(outcome_or_list, int):\n",
    "    return tuple(1 if o == outcome_or_list else 0 for o in OUTCOMES)\n",
    "  else:\n",
    "    return tuple(np.mean([to_dist(o) for o in outcome_or_list], axis=0))\n",
    "\n",
    "def value_fn(me, dist):\n",
    "  prefs = (me, me + 1, me + 2)\n",
    "  base = 2\n",
    "  for p in prefs:\n",
    "    val = dist[p % NUM_PLAYERS]\n",
    "    if val > 0:\n",
    "      return base + val\n",
    "    base -= 1\n",
    "  return base + 1\n",
    "\n",
    "def value_fn(me, dist):\n",
    "  if dist[me] > 0:\n",
    "    return dist[me] + 1\n",
    "  elif dist[DRAW] > 0:\n",
    "    return dist[DRAW]\n",
    "  else:\n",
    "    return 0\n",
    "VALUE_FN = {\n",
    "    0: functools.partial(value_fn, 0),\n",
    "    1: functools.partial(value_fn, 1),\n",
    "    2: functools.partial(value_fn, 2),\n",
    "}\n",
    "MAX_VALUE = {k: max(v(to_dist(o)) for o in OUTCOMES) for k, v in VALUE_FN.items()}\n",
    "MIN_VALUE = {k: min(v(to_dist(o)) for o in OUTCOMES) for k, v in VALUE_FN.items()}"
   ]
  },
  {
   "cell_type": "code",
   "execution_count": 11,
   "metadata": {
    "colab": {
     "base_uri": "https://localhost:8080/",
     "height": 72
    },
    "colab_type": "code",
    "id": "jmf5Zp0s4znR",
    "outputId": "ea5793b7-4e1b-4c0c-a150-b79dda45c578"
   },
   "outputs": [
    {
     "name": "stdout",
     "output_type": "stream",
     "text": [
      "0: 0 wins:2, 1 wins:0, 2 wins:0, draw:1\n",
      "1: 0 wins:0, 1 wins:2, 2 wins:0, draw:1\n",
      "2: 0 wins:0, 1 wins:0, 2 wins:2, draw:1\n"
     ]
    }
   ],
   "source": [
    "for i in range(NUM_PLAYERS):\n",
    "  s = ', '.join([f'{OUTCOME_STR[o]}:{VALUE_FN[i](to_dist(o))}' for o in OUTCOMES])\n",
    "  print(f'{i}: {s}')"
   ]
  },
  {
   "cell_type": "code",
   "execution_count": 17,
   "metadata": {
    "colab": {},
    "colab_type": "code",
    "id": "ev7uVY4WYnGU"
   },
   "outputs": [],
   "source": [
    "best_moves = dict() \n",
    "parents = collections.defaultdict(set)  # for unresolved states, keep track of who to update once you're updated\n",
    "lb_value = collections.defaultdict(lambda: -100)\n",
    "ub_value = collections.defaultdict(lambda: 100)\n",
    "possible_dists = collections.defaultdict(lambda: tuple(to_dist(o) for o in OUTCOMES))\n",
    "\n",
    "last_update_time = time.perf_counter()\n",
    "stack_depth = []\n",
    "num_states = []\n",
    "\n",
    "def dists(pos, stack=[], verbose=False) -> Tuple[Tuple, bool]:\n",
    "  if verbose:\n",
    "    print(f'#### at depth {len(stack)}, {lb_value[pos.packed]}<= value <={ub_value[pos.packed]}\\n{pos}')\n",
    "    possible = possible_dists[pos.packed]\n",
    "    print(f'initial possible dists: {possible}')\n",
    "    _ = input('')\n",
    "  resolved = (lb_value[pos.packed] == ub_value[pos.packed])\n",
    "  if not resolved:\n",
    "    update(pos, stack, verbose)\n",
    "    resolved = (lb_value[pos.packed] == ub_value[pos.packed])\n",
    "  possible = possible_dists[pos.packed]\n",
    "  if verbose:\n",
    "    print(f'{pos}\\nreturning {possible}, {resolved}')\n",
    "  return possible, resolved\n",
    "\n",
    "def update(pos, stack=[], verbose=False):\n",
    "\n",
    "  stack_depth.append(len(stack))\n",
    "\n",
    "  me = pos.active_player  # this is the player making a move from this position\n",
    "\n",
    "  win = game.winner(pos)\n",
    "  if win is not None:\n",
    "    value = VALUE_FN[me](to_dist(win))\n",
    "    if verbose:\n",
    "      print(f'setting bounds to {value} for outcome {OUTCOME_STR[win]}')\n",
    "    possible_dists[pos.packed] = (to_dist(win),)\n",
    "    lb_value[pos.packed] = value\n",
    "    ub_value[pos.packed] = value\n",
    "    return\n",
    "\n",
    "  # For each of my possible moves, determine the outcome if I make that move.\n",
    "  best_next, worst_next = [], []\n",
    "  resolved_all_children = True\n",
    "  moves = game.legal_moves(pos)\n",
    "  next_positions = [game.do_move(pos, move) for move in moves]\n",
    "  seen_dists = set()\n",
    "  # Try moves which reduce the number of states first.\n",
    "  idx = np.argsort([len(p.states) for p in next_positions])\n",
    "  if verbose:\n",
    "    print(f'Options: {[(moves[i], len(next_positions[i].states)) for i in idx]}')\n",
    "  for i in idx:\n",
    "    next_position = next_positions[i]\n",
    "    move = moves[i]\n",
    "    if next_position.packed in stack:\n",
    "      if verbose:\n",
    "        print(f'{move} would lead to repeat position {next_position.packed}; skipping')\n",
    "      best_next.append(max(VALUE_FN[me](d) for d in possible_dists[next_position.packed]))\n",
    "      worst_next.append(min(VALUE_FN[me](d) for d in possible_dists[next_position.packed]))\n",
    "      seen_dists |= set(possible_dists[next_position.packed])\n",
    "      # Record that when the next position gets worked out, we should come back\n",
    "      # and re-evaluate to this one.\n",
    "      parents[next_position.packed].add(pos.packed)\n",
    "      resolved_all_children = False\n",
    "      continue\n",
    "\n",
    "    stack.append(next_position.packed)\n",
    "    # print(f'trying {stack[-1]}, stack size {len(stack)}')\n",
    "    if verbose:\n",
    "      print(f'trying {move}')\n",
    "    next_dists, next_resolved = dists(next_position, stack, verbose)  # rely depth-first search and cache\n",
    "    seen_dists |= set(next_dists)\n",
    "    stack.pop()\n",
    "\n",
    "    # WARNING: This assumes that the value of a distribution is\n",
    "    # *some* convex combination of its support. e.g. you can't assign higher\n",
    "    # value to a distribution than to any of the outcomes where it's nonzero.\n",
    "    if next_resolved:\n",
    "      # Next player values all these distributions the same, and I assume they'll\n",
    "      # choose randomly between them. Note that this is not the same as choosing\n",
    "      # randomly among *moves* which lead to those distributions.\n",
    "      mean_dist = tuple(np.mean(next_dists, axis=0))\n",
    "      seen_dists.add(mean_dist)\n",
    "      value = VALUE_FN[me](mean_dist)\n",
    "      best_next.append(value)\n",
    "      worst_next.append(value)\n",
    "    else:\n",
    "      best_next.append(max(VALUE_FN[me](d) for d in next_dists))\n",
    "      worst_next.append(min(VALUE_FN[me](d) for d in next_dists))\n",
    "    if verbose:\n",
    "      print(f'back up to stack depth {len(stack)}')\n",
    "      print(f'{worst_next[-1]} <= next_value <= {best_next[-1]}')\n",
    "    if worst_next[-1] == MAX_VALUE[me]:\n",
    "      # I can force my preferred outcome. No need to search further.\n",
    "      break\n",
    "\n",
    "  low_bound = max([lb_value[pos.packed]] + worst_next)  # I can force at least this value\n",
    "  high_bound = max([lb_value[pos.packed]] + best_next)  # I *may* be able to force this value\n",
    "\n",
    "  if verbose:\n",
    "    print(f'Explored options {list(zip(moves, worst_next, best_next))}')\n",
    "    print(f'resolved_all_children {resolved_all_children}')\n",
    "    print(f'Saw dists {seen_dists}')\n",
    "  lb_value[pos.packed] = low_bound\n",
    "  # if resolved_all_children or lb_value[pos.packed] == MAX_VALUE[me]:\n",
    "  #   # Note: if not all children were resolved, I may be able to force an even\n",
    "  #   # better outcome, so don't update ub_value.\n",
    "  ub_value[pos.packed] = high_bound\n",
    "  possible_dists[pos.packed] = tuple(d for d in seen_dists if lb_value[pos.packed] <= VALUE_FN[me](d) <= ub_value[pos.packed])"
   ]
  },
  {
   "cell_type": "code",
   "execution_count": 49,
   "metadata": {
    "colab": {
     "base_uri": "https://localhost:8080/",
     "height": 90
    },
    "colab_type": "code",
    "id": "F1eXqXJPS-n4",
    "outputId": "cb2ad4ed-dc8d-4d36-e15b-439c9c1a9ddc"
   },
   "outputs": [
    {
     "name": "stdout",
     "output_type": "stream",
     "text": [
      "   known   unknown  (120 possibilities) 1196035\n",
      "0:         ????{012}  < current\n",
      "1:         ????{012}  \n",
      "2:         ????{012}  \n"
     ]
    }
   ],
   "source": [
    "# pos = Position(curr_player, active_player, requested_suit, states, known, unknown, is_excluded)\n",
    "pos = game.Position(states=game.all_possible_initial_states(NUM_PLAYERS))\n",
    "# pos = game.Position(packed=5137064387978307)\n",
    "print(pos)"
   ]
  },
  {
   "cell_type": "code",
   "execution_count": 51,
   "metadata": {
    "colab": {
     "base_uri": "https://localhost:8080/",
     "height": 72
    },
    "colab_type": "code",
    "id": "BMWFYgbSS3U9",
    "outputId": "8de347f7-5c66-4282-f3af-ba00deaed2a3"
   },
   "outputs": [
    {
     "name": "stdout",
     "output_type": "stream",
     "text": [
      "(((0.4375, 0.3125, 0.25, 0.0),), True)\n",
      "CPU times: user 161 µs, sys: 3 µs, total: 164 µs\n",
      "Wall time: 124 µs\n"
     ]
    }
   ],
   "source": [
    "%%time\n",
    "stack = []\n",
    "o = dists(pos, stack, verbose=False)\n",
    "print(o)"
   ]
  },
  {
   "cell_type": "code",
   "execution_count": 52,
   "metadata": {
    "colab": {
     "base_uri": "https://localhost:8080/",
     "height": 35
    },
    "colab_type": "code",
    "id": "ttEWkHBrsYr9",
    "outputId": "6fc62384-316f-4f23-d329-86ae18244457"
   },
   "outputs": [
    {
     "data": {
      "text/plain": [
       "(129721, 129721, 252)"
      ]
     },
     "execution_count": 52,
     "metadata": {},
     "output_type": "execute_result"
    }
   ],
   "source": [
    "len(lb_value), len(ub_value), len(parents)"
   ]
  },
  {
   "cell_type": "code",
   "execution_count": 53,
   "metadata": {
    "colab": {
     "base_uri": "https://localhost:8080/",
     "height": 35
    },
    "colab_type": "code",
    "id": "aOa1NUJ_4k0A",
    "outputId": "1bf88311-5230-4eba-eb6d-6ffa896d61dc"
   },
   "outputs": [
    {
     "data": {
      "text/plain": [
       "(1.4375, 1.4375)"
      ]
     },
     "execution_count": 53,
     "metadata": {},
     "output_type": "execute_result"
    }
   ],
   "source": [
    "lb_value[pos.packed], ub_value[pos.packed]"
   ]
  },
  {
   "cell_type": "code",
   "execution_count": 32,
   "metadata": {
    "colab": {
     "base_uri": "https://localhost:8080/",
     "height": 54
    },
    "colab_type": "code",
    "id": "Ypiyb1Y6tSYq",
    "outputId": "3c5f4db2-a2f4-4ae6-c9fc-86bd337b09e9"
   },
   "outputs": [
    {
     "name": "stdout",
     "output_type": "stream",
     "text": [
      "36 252\n",
      "0 252\n"
     ]
    }
   ],
   "source": [
    "prev_num_parents = 0\n",
    "num_resolved = 0\n",
    "while num_resolved > 0 or len(parents) != prev_num_parents:\n",
    "  num_resolved = 0\n",
    "  prev_num_parents = len(parents)\n",
    "  for p in list(parents.keys()):\n",
    "    for parent in list(parents[p]):\n",
    "      dists(game.Position(packed=parent))\n",
    "    ds, resolved = dists(game.Position(packed=p))\n",
    "    if resolved:\n",
    "      num_resolved += 1\n",
    "      del parents[p]\n",
    "  print(num_resolved, len(parents))"
   ]
  },
  {
   "cell_type": "code",
   "execution_count": 33,
   "metadata": {
    "colab": {
     "base_uri": "https://localhost:8080/",
     "height": 35
    },
    "colab_type": "code",
    "id": "CFnONsuF0KVK",
    "outputId": "82337877-202c-4b4b-aa93-3d70f638ac3b"
   },
   "outputs": [
    {
     "name": "stdout",
     "output_type": "stream",
     "text": [
      "0\n"
     ]
    }
   ],
   "source": [
    "# If a draw is possible from a parent position, it's required. Is this true?\n",
    "num_resolved = 0\n",
    "for p in list(parents.keys()):\n",
    "  draw_dist = to_dist(DRAW)\n",
    "  if draw_dist in possible_dists[p]:\n",
    "    num_resolved += 1\n",
    "    possible_dists[p] = (draw_dist,)\n",
    "    pos = game.Position(packed=p)\n",
    "    lb_value[p] = VALUE_FN[pos.active_player](draw_dist)\n",
    "    ub_value[p] = VALUE_FN[pos.active_player](draw_dist)\n",
    "    del parents[p]\n",
    "print(num_resolved)"
   ]
  },
  {
   "cell_type": "code",
   "execution_count": 0,
   "metadata": {
    "colab": {},
    "colab_type": "code",
    "id": "D0JuASU7CG2f"
   },
   "outputs": [],
   "source": [
    "# If a draw is not possible and we're not getting anywhere, assume each move\n",
    "# will resolve to the average of possible distributions\n",
    "packed_pos = list(parents.keys())[0]\n",
    "position = game.Position(packed=packed_pos)\n",
    "moves = legal_moves(position)\n",
    "next_positions = [game.do_move(position, move) for move in moves]\n",
    "best_ds, best_value = [], MIN_VALUE[position.active_player]\n",
    "for m, p in zip(moves, next_positions):\n",
    "  ds, resolved = dists(p)\n",
    "  d = tuple(np.mean(ds, axis=0))\n",
    "  value = VALUE_FN[position.active_player](d)\n",
    "  if value > best_value:\n",
    "    best_value = value\n",
    "    best_ds = [d]\n",
    "  elif value == best_value:\n",
    "    best_ds.append(d)\n",
    "\n",
    "possible_dists[packed_pos] = (tuple(np.mean(best_ds, axis=0)),)\n",
    "lb_value[packed_pos] = value\n",
    "ub_value[packed_pos] = value"
   ]
  },
  {
   "cell_type": "code",
   "execution_count": 25,
   "metadata": {
    "colab": {
     "base_uri": "https://localhost:8080/",
     "height": 126
    },
    "colab_type": "code",
    "id": "86eyFNwjBqST",
    "outputId": "9705c037-3383-404e-e267-1d20baef845c"
   },
   "outputs": [
    {
     "ename": "IndexError",
     "evalue": "list index out of range",
     "output_type": "error",
     "traceback": [
      "\u001b[0;31m---------------------------------------------------------------------------\u001b[0m",
      "\u001b[0;31mIndexError\u001b[0m                                Traceback (most recent call last)",
      "\u001b[0;32m<ipython-input-25-ec4ce4076f72>\u001b[0m in \u001b[0;36m<module>\u001b[0;34m()\u001b[0m\n\u001b[0;32m----> 1\u001b[0;31m \u001b[0mpacked_pos\u001b[0m \u001b[0;34m=\u001b[0m \u001b[0mlist\u001b[0m\u001b[0;34m(\u001b[0m\u001b[0mparents\u001b[0m\u001b[0;34m.\u001b[0m\u001b[0mkeys\u001b[0m\u001b[0;34m(\u001b[0m\u001b[0;34m)\u001b[0m\u001b[0;34m)\u001b[0m\u001b[0;34m[\u001b[0m\u001b[0;36m0\u001b[0m\u001b[0;34m]\u001b[0m\u001b[0;34m\u001b[0m\u001b[0;34m\u001b[0m\u001b[0m\n\u001b[0m\u001b[1;32m      2\u001b[0m \u001b[0;31m# packed_pos = 1131475061998096\u001b[0m\u001b[0;34m\u001b[0m\u001b[0;34m\u001b[0m\u001b[0;34m\u001b[0m\u001b[0m\n\u001b[1;32m      3\u001b[0m \u001b[0;31m# packed_pos = 1245828121360\u001b[0m\u001b[0;34m\u001b[0m\u001b[0;34m\u001b[0m\u001b[0;34m\u001b[0m\u001b[0m\n\u001b[1;32m      4\u001b[0m \u001b[0mposition\u001b[0m \u001b[0;34m=\u001b[0m \u001b[0mgame\u001b[0m\u001b[0;34m.\u001b[0m\u001b[0mPosition\u001b[0m\u001b[0;34m(\u001b[0m\u001b[0mpacked\u001b[0m\u001b[0;34m=\u001b[0m\u001b[0mpacked_pos\u001b[0m\u001b[0;34m)\u001b[0m\u001b[0;34m\u001b[0m\u001b[0;34m\u001b[0m\u001b[0m\n\u001b[1;32m      5\u001b[0m \u001b[0mprint\u001b[0m\u001b[0;34m(\u001b[0m\u001b[0mposition\u001b[0m\u001b[0;34m)\u001b[0m\u001b[0;34m\u001b[0m\u001b[0;34m\u001b[0m\u001b[0m\n",
      "\u001b[0;31mIndexError\u001b[0m: list index out of range"
     ]
    }
   ],
   "source": [
    "packed_pos = list(parents.keys())[0]\n",
    "# packed_pos = 1131475061998096\n",
    "# packed_pos = 1245828121360\n",
    "position = game.Position(packed=packed_pos)\n",
    "print(position)\n",
    "move = None\n",
    "print(position.packed)\n",
    "print(lb_value[position.packed], ub_value[position.packed], possible_dists[position.packed])"
   ]
  },
  {
   "cell_type": "code",
   "execution_count": 54,
   "metadata": {
    "colab": {
     "base_uri": "https://localhost:8080/",
     "height": 35
    },
    "colab_type": "code",
    "id": "jOz-rEuF9T0j",
    "outputId": "b344d1c6-e1cd-48d5-9108-b044c5784968"
   },
   "outputs": [
    {
     "data": {
      "text/plain": [
       "(((0.4375, 0.3125, 0.25, 0.0),), True)"
      ]
     },
     "execution_count": 54,
     "metadata": {},
     "output_type": "execute_result"
    }
   ],
   "source": [
    "dists(position)"
   ]
  },
  {
   "cell_type": "code",
   "execution_count": 55,
   "metadata": {
    "colab": {
     "base_uri": "https://localhost:8080/",
     "height": 90
    },
    "colab_type": "code",
    "id": "6zIDe6iZAt0Z",
    "outputId": "6ead69bb-2284-45ab-f853-c454ce421c48"
   },
   "outputs": [
    {
     "name": "stdout",
     "output_type": "stream",
     "text": [
      "   known   unknown  (120 possibilities) 1196035\n",
      "0:         ????{012}  < current\n",
      "1:         ????{012}  \n",
      "2:         ????{012}  \n"
     ]
    }
   ],
   "source": [
    "position = game.Position(states=game.all_possible_initial_states(NUM_PLAYERS))\n",
    "move = None\n",
    "print(position)"
   ]
  },
  {
   "cell_type": "code",
   "execution_count": 70,
   "metadata": {
    "colab": {
     "base_uri": "https://localhost:8080/",
     "height": 217
    },
    "colab_type": "code",
    "id": "XwTJd_cJlOcA",
    "outputId": "100a172a-c079-401c-a62f-3a80a4166fac"
   },
   "outputs": [
    {
     "name": "stdout",
     "output_type": "stream",
     "text": [
      "   known   unknown  (1 possibilities) 5704910578385011\n",
      "0: 001                \n",
      "1: 0111               < current\n",
      "2: 02222              \n"
     ]
    },
    {
     "ename": "ValueError",
     "evalue": "game over: 0 wins",
     "output_type": "error",
     "traceback": [
      "\u001b[0;31m---------------------------------------------------------------------------\u001b[0m",
      "\u001b[0;31mValueError\u001b[0m                                Traceback (most recent call last)",
      "\u001b[0;32m<ipython-input-70-6d1e7b5893d1>\u001b[0m in \u001b[0;36m<module>\u001b[0;34m()\u001b[0m\n\u001b[1;32m      6\u001b[0m \u001b[0mwin\u001b[0m \u001b[0;34m=\u001b[0m \u001b[0mgame\u001b[0m\u001b[0;34m.\u001b[0m\u001b[0mwinner\u001b[0m\u001b[0;34m(\u001b[0m\u001b[0mposition\u001b[0m\u001b[0;34m)\u001b[0m\u001b[0;34m\u001b[0m\u001b[0;34m\u001b[0m\u001b[0m\n\u001b[1;32m      7\u001b[0m \u001b[0;32mif\u001b[0m \u001b[0mwin\u001b[0m \u001b[0;32mis\u001b[0m \u001b[0;32mnot\u001b[0m \u001b[0;32mNone\u001b[0m\u001b[0;34m:\u001b[0m\u001b[0;34m\u001b[0m\u001b[0;34m\u001b[0m\u001b[0m\n\u001b[0;32m----> 8\u001b[0;31m   \u001b[0;32mraise\u001b[0m \u001b[0mValueError\u001b[0m\u001b[0;34m(\u001b[0m\u001b[0;34mf'game over: {OUTCOME_STR[win]}'\u001b[0m\u001b[0;34m)\u001b[0m\u001b[0;34m\u001b[0m\u001b[0;34m\u001b[0m\u001b[0m\n\u001b[0m\u001b[1;32m      9\u001b[0m \u001b[0;34m\u001b[0m\u001b[0m\n\u001b[1;32m     10\u001b[0m \u001b[0mmoves\u001b[0m \u001b[0;34m=\u001b[0m \u001b[0mgame\u001b[0m\u001b[0;34m.\u001b[0m\u001b[0mlegal_moves\u001b[0m\u001b[0;34m(\u001b[0m\u001b[0mposition\u001b[0m\u001b[0;34m)\u001b[0m\u001b[0;34m\u001b[0m\u001b[0;34m\u001b[0m\u001b[0m\n",
      "\u001b[0;31mValueError\u001b[0m: game over: 0 wins"
     ]
    }
   ],
   "source": [
    "if move:\n",
    "  position = game.do_move(position, move)\n",
    "  move = None\n",
    "\n",
    "print(position)\n",
    "win = game.winner(position)\n",
    "if win is not None:\n",
    "  raise ValueError(f'game over: {OUTCOME_STR[win]}')\n",
    "\n",
    "moves = game.legal_moves(position)\n",
    "next_positions = [game.do_move(position, move) for move in moves]\n",
    "best_moves, best_value = [], MIN_VALUE[position.active_player]\n",
    "for m, p in zip(moves, next_positions):\n",
    "  ds, resolved = dists(p)\n",
    "  if not resolved:\n",
    "    raise ValueError(p.packed)\n",
    "  d = tuple(np.mean(ds, axis=0))\n",
    "  value = VALUE_FN[position.active_player](d)\n",
    "  print(m, ds, value)\n",
    "  if value > best_value:\n",
    "    best_value = value\n",
    "    best_moves = [m]\n",
    "  elif value == best_value:\n",
    "    best_moves.append(m)\n",
    "\n",
    "if moves:\n",
    "  move = random.choice(best_moves)\n",
    "  print(f'an optimal move: {move} {best_value}')"
   ]
  },
  {
   "cell_type": "code",
   "execution_count": 0,
   "metadata": {
    "colab": {},
    "colab_type": "code",
    "id": "_1aD-7K4JNqe"
   },
   "outputs": [],
   "source": [
    "move = game.Ask(player=2, suit=0)\n",
    "# move = game.Answer(False)"
   ]
  }
 ],
 "metadata": {
  "colab": {
   "collapsed_sections": [],
   "name": "Quantum go fish",
   "provenance": []
  },
  "kernelspec": {
   "display_name": "Python 3",
   "language": "python",
   "name": "python3"
  },
  "language_info": {
   "codemirror_mode": {
    "name": "ipython",
    "version": 3
   },
   "file_extension": ".py",
   "mimetype": "text/x-python",
   "name": "python",
   "nbconvert_exporter": "python",
   "pygments_lexer": "ipython3",
   "version": "3.6.9"
  }
 },
 "nbformat": 4,
 "nbformat_minor": 1
}
